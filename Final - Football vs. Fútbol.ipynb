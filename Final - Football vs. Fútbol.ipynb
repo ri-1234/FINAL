{
 "cells": [
  {
   "cell_type": "markdown",
   "metadata": {},
   "source": [
    "# Final Project \n",
    "## Fútbol vs. Football \n",
    "### By: DEL"
   ]
  },
  {
   "cell_type": "markdown",
   "metadata": {},
   "source": [
    "# Abstract"
   ]
  },
  {
   "cell_type": "markdown",
   "metadata": {},
   "source": [
    "This is my Big Data final project, the biggest thing I will be looking at is the salaries from NFL football players and MLS soccer players. Looking at the datasets I see that both have guaranteed aspects of the salaries. It would also be interesting to look at guaranteed compensations. I also want to look at the salary caps for teams in each league. \n",
    "\n",
    "Some questions I am looking to answer in this final project: \n",
    "\n",
    "* Who is the highest paid player in the MLS?\n",
    "* Who is the lowest paid player in the MLS? \n",
    "* Who is the highest paid player in NFL? \n",
    "* Who is the lowest paid player in the NFL?\n",
    "* What positions are paid the highest in each league? \n",
    "* What is the average salary for each league? "
   ]
  },
  {
   "cell_type": "markdown",
   "metadata": {},
   "source": [
    "I wanted to do this in my last lab but didn't have the time - I want to compare the MLS salary with NWSL salary. I think it would be interesting to compare those salaries as well because the MLS and NWSL are both U.S.A leagues that have huge a huge pay gap and I would like to highlight that. "
   ]
  },
  {
   "cell_type": "markdown",
   "metadata": {},
   "source": [
    "# Dataset Exploration"
   ]
  },
  {
   "cell_type": "markdown",
   "metadata": {},
   "source": [
    "I found these datasets on kaggle (https://www.kaggle.com/crawford/us-major-league-soccer-salaries#mls-salaries-2017.csv is the MLS dataset and https://www.kaggle.com/trolukovich/football-players-salaries#football_salaries.csv this is the NFL dataset). The MLS dataset goes all the way back until 2007 but I will be looking at just 2017 because it is the most recent and will probably be more accurate with the data from the NFL data. There is not a specific date for the NFL data but it says it was updatated about six months ago. The first things I will be looking will be min, max and average and then I want to get more in depth and see what players get paid the most. I also want to think about how much professional athletes get paid. "
   ]
  },
  {
   "cell_type": "code",
   "execution_count": 9,
   "metadata": {},
   "outputs": [],
   "source": [
    "import math as m\n",
    "import numpy as np\n",
    "import scipy as sp\n",
    "import pandas as pd\n",
    "import matplotlib as plt\n",
    "import matplotlib.pyplot as plt\n",
    "import seaborn as sns  #IMPORTANT - UPGRADE SEABORN TO VERSION 0.9.0 IN ANACONDA ENV\n",
    "import statsmodels.api as sm\n",
    "import statsmodels.formula.api as smf\n",
    "\n"
   ]
  },
  {
   "cell_type": "markdown",
   "metadata": {},
   "source": [
    "The first thing that I am going to do is read in my csv so everything else below has a dataset to pull from. "
   ]
  },
  {
   "cell_type": "code",
   "execution_count": 19,
   "metadata": {},
   "outputs": [],
   "source": [
    "soccer_df = pd.read_csv (\"soccer.csv\")"
   ]
  },
  {
   "cell_type": "markdown",
   "metadata": {},
   "source": [
    "I am going to start by showing the head of the dataset in order to 1. make sure my code is working and 2. to see the names of the rows in the dataset I am exploring. "
   ]
  },
  {
   "cell_type": "code",
   "execution_count": 21,
   "metadata": {},
   "outputs": [
    {
     "data": {
      "text/html": [
       "<div>\n",
       "<style scoped>\n",
       "    .dataframe tbody tr th:only-of-type {\n",
       "        vertical-align: middle;\n",
       "    }\n",
       "\n",
       "    .dataframe tbody tr th {\n",
       "        vertical-align: top;\n",
       "    }\n",
       "\n",
       "    .dataframe thead th {\n",
       "        text-align: right;\n",
       "    }\n",
       "</style>\n",
       "<table border=\"1\" class=\"dataframe\">\n",
       "  <thead>\n",
       "    <tr style=\"text-align: right;\">\n",
       "      <th></th>\n",
       "      <th>club</th>\n",
       "      <th>last_name</th>\n",
       "      <th>first_name</th>\n",
       "      <th>position</th>\n",
       "      <th>base_salary</th>\n",
       "      <th>guaranteed_compensation</th>\n",
       "    </tr>\n",
       "  </thead>\n",
       "  <tbody>\n",
       "    <tr>\n",
       "      <th>0</th>\n",
       "      <td>ATL</td>\n",
       "      <td>Almiron</td>\n",
       "      <td>Miguel</td>\n",
       "      <td>M</td>\n",
       "      <td>1912500.0</td>\n",
       "      <td>2297000.00</td>\n",
       "    </tr>\n",
       "    <tr>\n",
       "      <th>1</th>\n",
       "      <td>ATL</td>\n",
       "      <td>Ambrose</td>\n",
       "      <td>Mikey</td>\n",
       "      <td>D</td>\n",
       "      <td>65625.0</td>\n",
       "      <td>65625.00</td>\n",
       "    </tr>\n",
       "    <tr>\n",
       "      <th>2</th>\n",
       "      <td>ATL</td>\n",
       "      <td>Asad</td>\n",
       "      <td>Yamil</td>\n",
       "      <td>M</td>\n",
       "      <td>150000.0</td>\n",
       "      <td>150000.00</td>\n",
       "    </tr>\n",
       "    <tr>\n",
       "      <th>3</th>\n",
       "      <td>ATL</td>\n",
       "      <td>Bloom</td>\n",
       "      <td>Mark</td>\n",
       "      <td>D</td>\n",
       "      <td>99225.0</td>\n",
       "      <td>106573.89</td>\n",
       "    </tr>\n",
       "    <tr>\n",
       "      <th>4</th>\n",
       "      <td>ATL</td>\n",
       "      <td>Carleton</td>\n",
       "      <td>Andrew</td>\n",
       "      <td>F</td>\n",
       "      <td>65000.0</td>\n",
       "      <td>77400.00</td>\n",
       "    </tr>\n",
       "    <tr>\n",
       "      <th>5</th>\n",
       "      <td>ATL</td>\n",
       "      <td>Carmona</td>\n",
       "      <td>Carlos</td>\n",
       "      <td>M</td>\n",
       "      <td>675000.0</td>\n",
       "      <td>725000.00</td>\n",
       "    </tr>\n",
       "    <tr>\n",
       "      <th>6</th>\n",
       "      <td>ATL</td>\n",
       "      <td>Garza</td>\n",
       "      <td>Greg</td>\n",
       "      <td>D</td>\n",
       "      <td>150000.0</td>\n",
       "      <td>150000.00</td>\n",
       "    </tr>\n",
       "    <tr>\n",
       "      <th>7</th>\n",
       "      <td>ATL</td>\n",
       "      <td>Gonzalez Pirez</td>\n",
       "      <td>Leandro</td>\n",
       "      <td>D</td>\n",
       "      <td>250008.0</td>\n",
       "      <td>285008.00</td>\n",
       "    </tr>\n",
       "    <tr>\n",
       "      <th>8</th>\n",
       "      <td>ATL</td>\n",
       "      <td>Goslin</td>\n",
       "      <td>Chris</td>\n",
       "      <td>M</td>\n",
       "      <td>70000.0</td>\n",
       "      <td>74000.00</td>\n",
       "    </tr>\n",
       "    <tr>\n",
       "      <th>9</th>\n",
       "      <td>ATL</td>\n",
       "      <td>Gressel</td>\n",
       "      <td>Julian</td>\n",
       "      <td>M</td>\n",
       "      <td>75000.0</td>\n",
       "      <td>93750.00</td>\n",
       "    </tr>\n",
       "  </tbody>\n",
       "</table>\n",
       "</div>"
      ],
      "text/plain": [
       "  club       last_name first_name position  base_salary  \\\n",
       "0  ATL         Almiron     Miguel        M    1912500.0   \n",
       "1  ATL         Ambrose      Mikey        D      65625.0   \n",
       "2  ATL            Asad      Yamil        M     150000.0   \n",
       "3  ATL           Bloom       Mark        D      99225.0   \n",
       "4  ATL        Carleton     Andrew        F      65000.0   \n",
       "5  ATL         Carmona     Carlos        M     675000.0   \n",
       "6  ATL           Garza       Greg        D     150000.0   \n",
       "7  ATL  Gonzalez Pirez    Leandro        D     250008.0   \n",
       "8  ATL          Goslin      Chris        M      70000.0   \n",
       "9  ATL         Gressel     Julian        M      75000.0   \n",
       "\n",
       "   guaranteed_compensation  \n",
       "0               2297000.00  \n",
       "1                 65625.00  \n",
       "2                150000.00  \n",
       "3                106573.89  \n",
       "4                 77400.00  \n",
       "5                725000.00  \n",
       "6                150000.00  \n",
       "7                285008.00  \n",
       "8                 74000.00  \n",
       "9                 93750.00  "
      ]
     },
     "execution_count": 21,
     "metadata": {},
     "output_type": "execute_result"
    }
   ],
   "source": [
    "my_df.head (10)"
   ]
  },
  {
   "cell_type": "code",
   "execution_count": 28,
   "metadata": {},
   "outputs": [
    {
     "data": {
      "text/plain": [
       "RangeIndex(start=0, stop=616, step=1)"
      ]
     },
     "execution_count": 28,
     "metadata": {},
     "output_type": "execute_result"
    }
   ],
   "source": [
    "soccer_df.index"
   ]
  },
  {
   "cell_type": "markdown",
   "metadata": {},
   "source": [
    "* Index tells me the data index of the variable. \n",
    "* In this case we confirm that my_df.index is actually the range starting from the 0."
   ]
  },
  {
   "cell_type": "code",
   "execution_count": 29,
   "metadata": {},
   "outputs": [
    {
     "data": {
      "text/plain": [
       "Index(['club', 'last_name', 'first_name', 'position', 'base_salary',\n",
       "       'guaranteed_compensation'],\n",
       "      dtype='object')"
      ]
     },
     "execution_count": 29,
     "metadata": {},
     "output_type": "execute_result"
    }
   ],
   "source": [
    "my_df.columns"
   ]
  },
  {
   "cell_type": "markdown",
   "metadata": {},
   "source": [
    "* Columns tells me the data columns of the variable. \n",
    "* In this case we confirm that my_df.columns is the name of the columns"
   ]
  },
  {
   "cell_type": "markdown",
   "metadata": {},
   "source": [
    "# Data Modeling "
   ]
  },
  {
   "cell_type": "markdown",
   "metadata": {},
   "source": [
    "In this section, I will be looking at info and describe. I will also find the min, max and average from each of the datasets. I am also going to make a graph to show these numbers in a viz."
   ]
  },
  {
   "cell_type": "markdown",
   "metadata": {},
   "source": [
    "I am going to use my good friend describe to show me the min, max, average of guaranteed compensation and base salary. This is helpful information for me. This will help when I need to compare salaries. "
   ]
  },
  {
   "cell_type": "code",
   "execution_count": 47,
   "metadata": {},
   "outputs": [
    {
     "data": {
      "text/html": [
       "<div>\n",
       "<style scoped>\n",
       "    .dataframe tbody tr th:only-of-type {\n",
       "        vertical-align: middle;\n",
       "    }\n",
       "\n",
       "    .dataframe tbody tr th {\n",
       "        vertical-align: top;\n",
       "    }\n",
       "\n",
       "    .dataframe thead th {\n",
       "        text-align: right;\n",
       "    }\n",
       "</style>\n",
       "<table border=\"1\" class=\"dataframe\">\n",
       "  <thead>\n",
       "    <tr style=\"text-align: right;\">\n",
       "      <th></th>\n",
       "      <th>base_salary</th>\n",
       "      <th>guaranteed_compensation</th>\n",
       "    </tr>\n",
       "  </thead>\n",
       "  <tbody>\n",
       "    <tr>\n",
       "      <th>count</th>\n",
       "      <td>6.160000e+02</td>\n",
       "      <td>6.160000e+02</td>\n",
       "    </tr>\n",
       "    <tr>\n",
       "      <th>mean</th>\n",
       "      <td>2.969777e+05</td>\n",
       "      <td>3.261392e+05</td>\n",
       "    </tr>\n",
       "    <tr>\n",
       "      <th>std</th>\n",
       "      <td>6.715792e+05</td>\n",
       "      <td>7.480007e+05</td>\n",
       "    </tr>\n",
       "    <tr>\n",
       "      <th>min</th>\n",
       "      <td>5.299992e+04</td>\n",
       "      <td>5.299992e+04</td>\n",
       "    </tr>\n",
       "    <tr>\n",
       "      <th>25%</th>\n",
       "      <td>6.563130e+04</td>\n",
       "      <td>6.990325e+04</td>\n",
       "    </tr>\n",
       "    <tr>\n",
       "      <th>50%</th>\n",
       "      <td>1.250000e+05</td>\n",
       "      <td>1.350020e+05</td>\n",
       "    </tr>\n",
       "    <tr>\n",
       "      <th>75%</th>\n",
       "      <td>2.553750e+05</td>\n",
       "      <td>2.809390e+05</td>\n",
       "    </tr>\n",
       "    <tr>\n",
       "      <th>max</th>\n",
       "      <td>6.660000e+06</td>\n",
       "      <td>7.167500e+06</td>\n",
       "    </tr>\n",
       "  </tbody>\n",
       "</table>\n",
       "</div>"
      ],
      "text/plain": [
       "        base_salary  guaranteed_compensation\n",
       "count  6.160000e+02             6.160000e+02\n",
       "mean   2.969777e+05             3.261392e+05\n",
       "std    6.715792e+05             7.480007e+05\n",
       "min    5.299992e+04             5.299992e+04\n",
       "25%    6.563130e+04             6.990325e+04\n",
       "50%    1.250000e+05             1.350020e+05\n",
       "75%    2.553750e+05             2.809390e+05\n",
       "max    6.660000e+06             7.167500e+06"
      ]
     },
     "execution_count": 47,
     "metadata": {},
     "output_type": "execute_result"
    }
   ],
   "source": [
    "soccer_df.describe()"
   ]
  },
  {
   "cell_type": "markdown",
   "metadata": {},
   "source": [
    "Now, I am going to use my best friend info. Info tells me very interesting things - it tells me how many entries there are in the dataset and how many may be missing from the rows. "
   ]
  },
  {
   "cell_type": "code",
   "execution_count": 25,
   "metadata": {},
   "outputs": [
    {
     "name": "stdout",
     "output_type": "stream",
     "text": [
      "<class 'pandas.core.frame.DataFrame'>\n",
      "RangeIndex: 616 entries, 0 to 615\n",
      "Data columns (total 6 columns):\n",
      "club                       614 non-null object\n",
      "last_name                  616 non-null object\n",
      "first_name                 612 non-null object\n",
      "position                   616 non-null object\n",
      "base_salary                616 non-null float64\n",
      "guaranteed_compensation    616 non-null float64\n",
      "dtypes: float64(2), object(4)\n",
      "memory usage: 29.0+ KB\n"
     ]
    }
   ],
   "source": [
    "soccer_df.info()"
   ]
  },
  {
   "cell_type": "markdown",
   "metadata": {},
   "source": [
    "Now that I have done a lot with this datset, I am going to make a couple of graphs to show the frequency of data. I am going to use a histogram to show how players are paid. The first graph will have a range from 0 to 500,000 and the second graph will have a range from 600,000 to 900,000 and the third will have a range from 1,000,000 to 6,000,000. "
   ]
  },
  {
   "cell_type": "code",
   "execution_count": 49,
   "metadata": {},
   "outputs": [
    {
     "data": {
      "text/plain": [
       "(array([  0., 243., 104.,  59.,  47.,  30.,  22.,  15.,   9.,  18.]),\n",
       " array([     0.,  50000., 100000., 150000., 200000., 250000., 300000.,\n",
       "        350000., 400000., 450000., 500000.]),\n",
       " <a list of 10 Patch objects>)"
      ]
     },
     "execution_count": 49,
     "metadata": {},
     "output_type": "execute_result"
    },
    {
     "data": {
      "image/png": "[encoded data removed]",
      "text/plain": [
       "<Figure size 432x288 with 1 Axes>"
      ]
     },
     "metadata": {
      "needs_background": "light"
     },
     "output_type": "display_data"
    }
   ],
   "source": [
    "plt.hist(soccer_df.base_salary, bins=10, range= (0, 500000) ) "
   ]
  },
  {
   "cell_type": "code",
   "execution_count": 35,
   "metadata": {},
   "outputs": [
    {
     "data": {
      "text/plain": [
       "(array([9., 4., 6., 4., 7., 3., 0.]),\n",
       " array([600000.        , 642857.14285714, 685714.28571429, 728571.42857143,\n",
       "        771428.57142857, 814285.71428571, 857142.85714286, 900000.        ]),\n",
       " <a list of 7 Patch objects>)"
      ]
     },
     "execution_count": 35,
     "metadata": {},
     "output_type": "execute_result"
    },
    {
     "data": {
      "image/png": "[encoded data removed]",
      "text/plain": [
       "<Figure size 432x288 with 1 Axes>"
      ]
     },
     "metadata": {
      "needs_background": "light"
     },
     "output_type": "display_data"
    }
   ],
   "source": [
    "plt.hist(my_df.base_salary, bins=7, range= (600000, 900000) ) "
   ]
  },
  {
   "cell_type": "code",
   "execution_count": 32,
   "metadata": {},
   "outputs": [
    {
     "data": {
      "text/plain": [
       "(array([12.,  5.,  0.,  2.,  0.,  1.,  5.]),\n",
       " array([1000000.        , 1714285.71428571, 2428571.42857143,\n",
       "        3142857.14285714, 3857142.85714286, 4571428.57142857,\n",
       "        5285714.28571429, 6000000.        ]),\n",
       " <a list of 7 Patch objects>)"
      ]
     },
     "execution_count": 32,
     "metadata": {},
     "output_type": "execute_result"
    },
    {
     "data": {
      "image/png": "[encoded data removed]",
      "text/plain": [
       "<Figure size 432x288 with 1 Axes>"
      ]
     },
     "metadata": {
      "needs_background": "light"
     },
     "output_type": "display_data"
    }
   ],
   "source": [
    "plt.hist(my_df.base_salary, bins=7, range= (1000000, 6000000) ) "
   ]
  },
  {
   "cell_type": "markdown",
   "metadata": {},
   "source": [
    "Making these graphs shows how many players from the MLS are paid a certain amount of money. In these graphs, the y axis shows the amount of players and the x axis is the amount of money they are paid.  "
   ]
  },
  {
   "cell_type": "code",
   "execution_count": 56,
   "metadata": {},
   "outputs": [
    {
     "data": {
      "image/png": "[encoded data removed]",
      "text/plain": [
       "<Figure size 432x288 with 1 Axes>"
      ]
     },
     "metadata": {},
     "output_type": "display_data"
    }
   ],
   "source": [
    "sns.set(style='whitegrid')\n",
    "\n",
    "ax = sns.boxplot(x=my_df['base_salary']) "
   ]
  },
  {
   "cell_type": "markdown",
   "metadata": {},
   "source": [
    "# Now, I am going to examine some football data! "
   ]
  },
  {
   "cell_type": "code",
   "execution_count": 17,
   "metadata": {},
   "outputs": [],
   "source": [
    "\n",
    "football_df = pd.read_csv(\"football.csv\",  encoding = \"latin_1\") "
   ]
  },
  {
   "cell_type": "code",
   "execution_count": 39,
   "metadata": {},
   "outputs": [
    {
     "data": {
      "text/html": [
       "<div>\n",
       "<style scoped>\n",
       "    .dataframe tbody tr th:only-of-type {\n",
       "        vertical-align: middle;\n",
       "    }\n",
       "\n",
       "    .dataframe tbody tr th {\n",
       "        vertical-align: top;\n",
       "    }\n",
       "\n",
       "    .dataframe thead th {\n",
       "        text-align: right;\n",
       "    }\n",
       "</style>\n",
       "<table border=\"1\" class=\"dataframe\">\n",
       "  <thead>\n",
       "    <tr style=\"text-align: right;\">\n",
       "      <th></th>\n",
       "      <th>position</th>\n",
       "      <th>player</th>\n",
       "      <th>team</th>\n",
       "      <th>age</th>\n",
       "      <th>total_value</th>\n",
       "      <th>avg_year</th>\n",
       "      <th>total_guaranteed</th>\n",
       "      <th>fully_guaranteed</th>\n",
       "      <th>free_agency</th>\n",
       "    </tr>\n",
       "  </thead>\n",
       "  <tbody>\n",
       "    <tr>\n",
       "      <th>0</th>\n",
       "      <td>right-tackle</td>\n",
       "      <td>Trent Brown</td>\n",
       "      <td>Raiders</td>\n",
       "      <td>26</td>\n",
       "      <td>66000000</td>\n",
       "      <td>16500000</td>\n",
       "      <td>36250000</td>\n",
       "      <td>36250000</td>\n",
       "      <td>2023 UFA</td>\n",
       "    </tr>\n",
       "    <tr>\n",
       "      <th>1</th>\n",
       "      <td>right-tackle</td>\n",
       "      <td>JaÛªWuan James</td>\n",
       "      <td>Broncos</td>\n",
       "      <td>27</td>\n",
       "      <td>51000000</td>\n",
       "      <td>12750000</td>\n",
       "      <td>32000000</td>\n",
       "      <td>27000000</td>\n",
       "      <td>2023 UFA</td>\n",
       "    </tr>\n",
       "    <tr>\n",
       "      <th>2</th>\n",
       "      <td>right-tackle</td>\n",
       "      <td>Lane Johnson</td>\n",
       "      <td>Eagles</td>\n",
       "      <td>29</td>\n",
       "      <td>56250000</td>\n",
       "      <td>11250000</td>\n",
       "      <td>35500000</td>\n",
       "      <td>20862242</td>\n",
       "      <td>2022 Void</td>\n",
       "    </tr>\n",
       "    <tr>\n",
       "      <th>3</th>\n",
       "      <td>right-tackle</td>\n",
       "      <td>Ricky Wagner</td>\n",
       "      <td>Lions</td>\n",
       "      <td>30</td>\n",
       "      <td>47500000</td>\n",
       "      <td>9500000</td>\n",
       "      <td>29500000</td>\n",
       "      <td>17500000</td>\n",
       "      <td>2022 UFA</td>\n",
       "    </tr>\n",
       "    <tr>\n",
       "      <th>4</th>\n",
       "      <td>right-tackle</td>\n",
       "      <td>Rob Havenstein</td>\n",
       "      <td>Rams</td>\n",
       "      <td>26</td>\n",
       "      <td>32500000</td>\n",
       "      <td>8125000</td>\n",
       "      <td>16226365</td>\n",
       "      <td>9976365</td>\n",
       "      <td>2023 UFA</td>\n",
       "    </tr>\n",
       "  </tbody>\n",
       "</table>\n",
       "</div>"
      ],
      "text/plain": [
       "       position           player     team  age  total_value  avg_year  \\\n",
       "0  right-tackle      Trent Brown  Raiders   26     66000000  16500000   \n",
       "1  right-tackle  JaÛªWuan James  Broncos   27     51000000  12750000   \n",
       "2  right-tackle     Lane Johnson   Eagles   29     56250000  11250000   \n",
       "3  right-tackle     Ricky Wagner    Lions   30     47500000   9500000   \n",
       "4  right-tackle   Rob Havenstein     Rams   26     32500000   8125000   \n",
       "\n",
       "   total_guaranteed  fully_guaranteed free_agency  \n",
       "0          36250000          36250000    2023 UFA  \n",
       "1          32000000          27000000    2023 UFA  \n",
       "2          35500000          20862242   2022 Void  \n",
       "3          29500000          17500000    2022 UFA  \n",
       "4          16226365           9976365    2023 UFA  "
      ]
     },
     "execution_count": 39,
     "metadata": {},
     "output_type": "execute_result"
    }
   ],
   "source": [
    "football_df.head()"
   ]
  },
  {
   "cell_type": "markdown",
   "metadata": {},
   "source": [
    "Now that I have the head of my data, I want to examine it a little closer."
   ]
  },
  {
   "cell_type": "code",
   "execution_count": 41,
   "metadata": {},
   "outputs": [
    {
     "data": {
      "text/plain": [
       "RangeIndex(start=0, stop=5523, step=1)"
      ]
     },
     "execution_count": 41,
     "metadata": {},
     "output_type": "execute_result"
    }
   ],
   "source": [
    "football_df.index"
   ]
  },
  {
   "cell_type": "markdown",
   "metadata": {},
   "source": [
    "Index tells me the amount of rows I have. "
   ]
  },
  {
   "cell_type": "markdown",
   "metadata": {},
   "source": [
    "I am going to look at the comlumns of data that I have. This will help me when I want to explore some of the columns. To show me what columns I have, I am going to use the columns function.  "
   ]
  },
  {
   "cell_type": "code",
   "execution_count": 44,
   "metadata": {},
   "outputs": [
    {
     "data": {
      "text/plain": [
       "Index(['position', 'player', 'team', 'age', 'total_value', 'avg_year',\n",
       "       'total_guaranteed', 'fully_guaranteed', 'free_agency'],\n",
       "      dtype='object')"
      ]
     },
     "execution_count": 44,
     "metadata": {},
     "output_type": "execute_result"
    }
   ],
   "source": [
    "football_df.columns"
   ]
  },
  {
   "cell_type": "markdown",
   "metadata": {},
   "source": [
    "# Data Modeling for Football"
   ]
  },
  {
   "cell_type": "markdown",
   "metadata": {},
   "source": [
    "### I am going to use the same functions above - describe and info to tell me important information for the football data. "
   ]
  },
  {
   "cell_type": "markdown",
   "metadata": {},
   "source": [
    "I am going to use my good friend describe to show me the min, max, average of total value, average yearly salary, total guaranteed and fully guaranteed. "
   ]
  },
  {
   "cell_type": "code",
   "execution_count": 46,
   "metadata": {},
   "outputs": [
    {
     "data": {
      "text/html": [
       "<div>\n",
       "<style scoped>\n",
       "    .dataframe tbody tr th:only-of-type {\n",
       "        vertical-align: middle;\n",
       "    }\n",
       "\n",
       "    .dataframe tbody tr th {\n",
       "        vertical-align: top;\n",
       "    }\n",
       "\n",
       "    .dataframe thead th {\n",
       "        text-align: right;\n",
       "    }\n",
       "</style>\n",
       "<table border=\"1\" class=\"dataframe\">\n",
       "  <thead>\n",
       "    <tr style=\"text-align: right;\">\n",
       "      <th></th>\n",
       "      <th>age</th>\n",
       "      <th>total_value</th>\n",
       "      <th>avg_year</th>\n",
       "      <th>total_guaranteed</th>\n",
       "      <th>fully_guaranteed</th>\n",
       "    </tr>\n",
       "  </thead>\n",
       "  <tbody>\n",
       "    <tr>\n",
       "      <th>count</th>\n",
       "      <td>5523.000000</td>\n",
       "      <td>5.523000e+03</td>\n",
       "      <td>5.523000e+03</td>\n",
       "      <td>5.523000e+03</td>\n",
       "      <td>5.523000e+03</td>\n",
       "    </tr>\n",
       "    <tr>\n",
       "      <th>mean</th>\n",
       "      <td>187.901141</td>\n",
       "      <td>7.786235e+06</td>\n",
       "      <td>2.250830e+06</td>\n",
       "      <td>3.803250e+06</td>\n",
       "      <td>3.095552e+06</td>\n",
       "    </tr>\n",
       "    <tr>\n",
       "      <th>std</th>\n",
       "      <td>549.109622</td>\n",
       "      <td>1.590476e+07</td>\n",
       "      <td>3.573839e+06</td>\n",
       "      <td>9.728381e+06</td>\n",
       "      <td>7.322756e+06</td>\n",
       "    </tr>\n",
       "    <tr>\n",
       "      <th>min</th>\n",
       "      <td>0.000000</td>\n",
       "      <td>1.050000e+05</td>\n",
       "      <td>0.000000e+00</td>\n",
       "      <td>0.000000e+00</td>\n",
       "      <td>0.000000e+00</td>\n",
       "    </tr>\n",
       "    <tr>\n",
       "      <th>25%</th>\n",
       "      <td>24.000000</td>\n",
       "      <td>1.350000e+06</td>\n",
       "      <td>5.853330e+05</td>\n",
       "      <td>0.000000e+00</td>\n",
       "      <td>0.000000e+00</td>\n",
       "    </tr>\n",
       "    <tr>\n",
       "      <th>50%</th>\n",
       "      <td>25.000000</td>\n",
       "      <td>2.075000e+06</td>\n",
       "      <td>6.900000e+05</td>\n",
       "      <td>9.000000e+04</td>\n",
       "      <td>8.705600e+04</td>\n",
       "    </tr>\n",
       "    <tr>\n",
       "      <th>75%</th>\n",
       "      <td>28.000000</td>\n",
       "      <td>4.673694e+06</td>\n",
       "      <td>2.000000e+06</td>\n",
       "      <td>1.600000e+06</td>\n",
       "      <td>1.500000e+06</td>\n",
       "    </tr>\n",
       "    <tr>\n",
       "      <th>max</th>\n",
       "      <td>2020.000000</td>\n",
       "      <td>1.500000e+08</td>\n",
       "      <td>3.500000e+07</td>\n",
       "      <td>1.070000e+08</td>\n",
       "      <td>9.450000e+07</td>\n",
       "    </tr>\n",
       "  </tbody>\n",
       "</table>\n",
       "</div>"
      ],
      "text/plain": [
       "               age   total_value      avg_year  total_guaranteed  \\\n",
       "count  5523.000000  5.523000e+03  5.523000e+03      5.523000e+03   \n",
       "mean    187.901141  7.786235e+06  2.250830e+06      3.803250e+06   \n",
       "std     549.109622  1.590476e+07  3.573839e+06      9.728381e+06   \n",
       "min       0.000000  1.050000e+05  0.000000e+00      0.000000e+00   \n",
       "25%      24.000000  1.350000e+06  5.853330e+05      0.000000e+00   \n",
       "50%      25.000000  2.075000e+06  6.900000e+05      9.000000e+04   \n",
       "75%      28.000000  4.673694e+06  2.000000e+06      1.600000e+06   \n",
       "max    2020.000000  1.500000e+08  3.500000e+07      1.070000e+08   \n",
       "\n",
       "       fully_guaranteed  \n",
       "count      5.523000e+03  \n",
       "mean       3.095552e+06  \n",
       "std        7.322756e+06  \n",
       "min        0.000000e+00  \n",
       "25%        0.000000e+00  \n",
       "50%        8.705600e+04  \n",
       "75%        1.500000e+06  \n",
       "max        9.450000e+07  "
      ]
     },
     "execution_count": 46,
     "metadata": {},
     "output_type": "execute_result"
    }
   ],
   "source": [
    "football_df.describe()"
   ]
  },
  {
   "cell_type": "markdown",
   "metadata": {},
   "source": [
    "Now, I am going to use my best friend info. Info tells me very interesting things - it tells me how many entries there are in the dataset and how many may be missing from the rows. "
   ]
  },
  {
   "cell_type": "code",
   "execution_count": 45,
   "metadata": {},
   "outputs": [
    {
     "name": "stdout",
     "output_type": "stream",
     "text": [
      "<class 'pandas.core.frame.DataFrame'>\n",
      "RangeIndex: 5523 entries, 0 to 5522\n",
      "Data columns (total 9 columns):\n",
      "position            5523 non-null object\n",
      "player              5523 non-null object\n",
      "team                5523 non-null object\n",
      "age                 5523 non-null int64\n",
      "total_value         5523 non-null int64\n",
      "avg_year            5523 non-null int64\n",
      "total_guaranteed    5523 non-null int64\n",
      "fully_guaranteed    5523 non-null int64\n",
      "free_agency         5518 non-null object\n",
      "dtypes: int64(5), object(4)\n",
      "memory usage: 388.4+ KB\n"
     ]
    }
   ],
   "source": [
    "football_df.info() "
   ]
  },
  {
   "cell_type": "markdown",
   "metadata": {},
   "source": [
    "Like I did with the soccer data I am going to use different ranges for the graphs so it looks less crowded. The ranges will be 0 to 500000, 600000 to 900000, 1000000 to 4000000, 5000000 to 6000000 and 8200000 to  9000000. "
   ]
  },
  {
   "cell_type": "code",
   "execution_count": 18,
   "metadata": {},
   "outputs": [
    {
     "data": {
      "text/plain": [
       "(array([2581.,  253.,  135.,  141.,   79.,  131.,   85.,   21.,   35.,\n",
       "          65.]),\n",
       " array([     0.,  50000., 100000., 150000., 200000., 250000., 300000.,\n",
       "        350000., 400000., 450000., 500000.]),\n",
       " <a list of 10 Patch objects>)"
      ]
     },
     "execution_count": 18,
     "metadata": {},
     "output_type": "execute_result"
    },
    {
     "data": {
      "image/png": "[encoded data removed]",
      "text/plain": [
       "<Figure size 432x288 with 1 Axes>"
      ]
     },
     "metadata": {
      "needs_background": "light"
     },
     "output_type": "display_data"
    }
   ],
   "source": [
    "plt.hist(football_df.total_guaranteed, bins=10, range= (0, 500000) ) "
   ]
  },
  {
   "cell_type": "code",
   "execution_count": 63,
   "metadata": {},
   "outputs": [
    {
     "data": {
      "text/plain": [
       "(array([35., 20., 23., 28., 27., 41., 30., 35., 24., 14., 16., 17., 15.,\n",
       "         9., 18.]),\n",
       " array([600000., 620000., 640000., 660000., 680000., 700000., 720000.,\n",
       "        740000., 760000., 780000., 800000., 820000., 840000., 860000.,\n",
       "        880000., 900000.]),\n",
       " <a list of 15 Patch objects>)"
      ]
     },
     "execution_count": 63,
     "metadata": {},
     "output_type": "execute_result"
    },
    {
     "data": {
      "image/png": "[encoded data removed]",
      "text/plain": [
       "<Figure size 432x288 with 1 Axes>"
      ]
     },
     "metadata": {},
     "output_type": "display_data"
    }
   ],
   "source": [
    "plt.hist(football_df.total_guaranteed, bins=15, range= (600000, 900000) )"
   ]
  },
  {
   "cell_type": "code",
   "execution_count": 58,
   "metadata": {},
   "outputs": [
    {
     "data": {
      "image/png": "[encoded data removed]",
      "text/plain": [
       "<Figure size 432x288 with 1 Axes>"
      ]
     },
     "metadata": {},
     "output_type": "display_data"
    }
   ],
   "source": [
    "sns.set(style='whitegrid')\n",
    "\n",
    "ax = sns.boxplot(x=football_df['total_guaranteed']) "
   ]
  },
  {
   "cell_type": "code",
   "execution_count": 65,
   "metadata": {},
   "outputs": [
    {
     "data": {
      "text/plain": [
       "(array([73., 26., 38., 23., 18., 32., 32., 26., 35., 20., 38., 18., 33.,\n",
       "        21., 45.]),\n",
       " array([1000000., 1200000., 1400000., 1600000., 1800000., 2000000.,\n",
       "        2200000., 2400000., 2600000., 2800000., 3000000., 3200000.,\n",
       "        3400000., 3600000., 3800000., 4000000.]),\n",
       " <a list of 15 Patch objects>)"
      ]
     },
     "execution_count": 65,
     "metadata": {},
     "output_type": "execute_result"
    },
    {
     "data": {
      "image/png": "[encoded data removed]",
      "text/plain": [
       "<Figure size 432x288 with 1 Axes>"
      ]
     },
     "metadata": {},
     "output_type": "display_data"
    }
   ],
   "source": [
    "plt.hist(football_df.total_guaranteed, bins=15, range= (1000000, 4000000) )"
   ]
  },
  {
   "cell_type": "code",
   "execution_count": 69,
   "metadata": {},
   "outputs": [
    {
     "data": {
      "text/plain": [
       "(array([12.,  3., 14.,  0.,  1., 14.,  2., 10.,  0., 20.]),\n",
       " array([5000000., 5100000., 5200000., 5300000., 5400000., 5500000.,\n",
       "        5600000., 5700000., 5800000., 5900000., 6000000.]),\n",
       " <a list of 10 Patch objects>)"
      ]
     },
     "execution_count": 69,
     "metadata": {},
     "output_type": "execute_result"
    },
    {
     "data": {
      "image/png": "[encoded data removed]",
      "text/plain": [
       "<Figure size 432x288 with 1 Axes>"
      ]
     },
     "metadata": {},
     "output_type": "display_data"
    }
   ],
   "source": [
    "plt.hist(football_df.total_guaranteed, bins=10, range= (5000000, 6000000) )"
   ]
  },
  {
   "cell_type": "code",
   "execution_count": 72,
   "metadata": {
    "scrolled": true
   },
   "outputs": [
    {
     "data": {
      "text/plain": [
       "(array([ 4.,  0.,  1., 10.,  2.,  6.,  4.,  6.,  1.,  8.]),\n",
       " array([8200000., 8280000., 8360000., 8440000., 8520000., 8600000.,\n",
       "        8680000., 8760000., 8840000., 8920000., 9000000.]),\n",
       " <a list of 10 Patch objects>)"
      ]
     },
     "execution_count": 72,
     "metadata": {},
     "output_type": "execute_result"
    },
    {
     "data": {
      "image/png": "[encoded data removed]",
      "text/plain": [
       "<Figure size 432x288 with 1 Axes>"
      ]
     },
     "metadata": {},
     "output_type": "display_data"
    }
   ],
   "source": [
    "plt.hist(football_df.total_guaranteed, bins=10, range= (8200000, 9000000)) "
   ]
  },
  {
   "cell_type": "markdown",
   "metadata": {},
   "source": [
    "# Conclusions "
   ]
  },
  {
   "cell_type": "markdown",
   "metadata": {},
   "source": [
    "I found a lot of really interesting data from the datasets I explored. I found the highest salary for soccer was 7,167,500 dollars as of 2017 and the highest salary in the NFL from the time of that data set was 94,500,000 dollars over a certain number of years, but I looked it up and the highest paid player now is I am pretty sure, Russell Wilson who is paid 140,000,000 for four years. This isn't represented on the graphs because I think these stats are from awhile back. The least amount of money made by a player in the MLS was about 52,999 dollars and the min in the NFL was around 105,000 dollars. Looking at these numbers, I wonder why is there such a huge gap in between the pay in two leagues that are in the U.S including a couple of teams from Canada. It also makes me wonder about pay and if athletes should be making as much as they do. In addition, I think about women's athletes who like MLS soccer players are getting paid a fraction of what football players get paid. \n"
   ]
  },
  {
   "cell_type": "markdown",
   "metadata": {},
   "source": [
    "# Acknowledgements"
   ]
  },
  {
   "cell_type": "markdown",
   "metadata": {},
   "source": [
    "Ms. Sconyers, thank you for helping me figure out the encodings and being available to meet. \n",
    "\n",
    "Myself: Having good labs to look back on. \n",
    "\n",
    "June: Checking in and helping me when I need help! \n",
    "\n",
    "Ziah: Also, checking in and helping me! "
   ]
  }
 ],
 "metadata": {
  "kernelspec": {
   "display_name": "Python 3",
   "language": "python",
   "name": "python3"
  },
  "language_info": {
   "codemirror_mode": {
    "name": "ipython",
    "version": 3
   },
   "file_extension": ".py",
   "mimetype": "text/x-python",
   "name": "python",
   "nbconvert_exporter": "python",
   "pygments_lexer": "ipython3",
   "version": "3.7.3"
  }
 },
 "nbformat": 4,
 "nbformat_minor": 2
}
